{
 "cells": [
  {
   "cell_type": "code",
   "execution_count": 1,
   "metadata": {},
   "outputs": [],
   "source": [
    "import torch\n",
    "from torch.utils.data import DataLoader\n",
    "import os\n",
    "from torchsummary import summary\n",
    "from collections import defaultdict\n",
    "from datasets.transforms import get_data_transforms\n",
    "from datasets.utils import separate_datasets, show_samples,CovidDataLoader\n",
    "from models.model import get_model\n",
    "from models.train import train_model\n",
    "from models.metrics import update_mean_metrics, print_metrics"
   ]
  },
  {
   "cell_type": "code",
   "execution_count": 2,
   "metadata": {},
   "outputs": [
    {
     "name": "stdout",
     "output_type": "stream",
     "text": [
      "\"train.txt\" created in ./data/CT_mu3\n",
      "\"test.txt\" created in ./data/CT_mu3\n",
      "\"val.txt\" created in ./data/CT_mu3\n",
      "\"train_lb_0.txt\" created in ./data/CT_mu3\n",
      "\"train_ulb_0.txt\" created in ./data/CT_mu3\n",
      "\"train_lb_1.txt\" created in ./data/CT_mu3\n",
      "\"train_ulb_1.txt\" created in ./data/CT_mu3\n",
      "\"train_lb_2.txt\" created in ./data/CT_mu3\n",
      "\"train_ulb_2.txt\" created in ./data/CT_mu3\n",
      "\"train_lb_3.txt\" created in ./data/CT_mu3\n",
      "\"train_ulb_3.txt\" created in ./data/CT_mu3\n",
      "\"train_lb_4.txt\" created in ./data/CT_mu3\n",
      "\"train_ulb_4.txt\" created in ./data/CT_mu3\n"
     ]
    }
   ],
   "source": [
    "cfg = {\n",
    "    'purpose' : 'baseline',\n",
    "    'data_dir' : './data/CT_mu3',\n",
    "    'mu' : 3,\n",
    "    'fold' : 5,\n",
    "    'epochs' : 20,\n",
    "    'labeled_num_per_cls' : 10,\n",
    "    'metric_types' : ['acc', 'ppv', 'recall', 'f1'],\n",
    "    'dataset_types' : ['train', 'test','val'],\n",
    "    'class_name': ['covid-19', 'pneumonia', 'normal']\n",
    "}\n",
    "\n",
    "\n",
    "if not os.path.exists(os.path.join(cfg['data_dir'],'test.txt')):\n",
    "    from datasets.utils import make_baseline_dataset\n",
    "    make_baseline_dataset('./data/CT',\n",
    "                          cfg['labeled_num_per_cls'],\n",
    "                          outpath = cfg['data_dir'],\n",
    "                          dataset_types = cfg['dataset_types'],\n",
    "                          class_name = cfg['class_name']) # test는 전부, train은 25개 만큼만\n",
    "    \n",
    "if not os.path.exists(os.path.join(cfg['data_dir'],'train_lb_0.txt')):\n",
    "    from datasets.utils import separate_datasets\n",
    "    separate_datasets('./data/CT',\n",
    "                      cfg['fold'],\n",
    "                      cfg['labeled_num_per_cls'], \n",
    "                      cfg['mu'],\n",
    "                      outpath = cfg['data_dir'],\n",
    "                      class_name = cfg['class_name']) # lb는 25개, ulb는 mu*25개\n",
    "                      "
   ]
  }
 ],
 "metadata": {
  "kernelspec": {
   "display_name": "torch1.7",
   "language": "python",
   "name": "torch1.7"
  },
  "language_info": {
   "codemirror_mode": {
    "name": "ipython",
    "version": 3
   },
   "file_extension": ".py",
   "mimetype": "text/x-python",
   "name": "python",
   "nbconvert_exporter": "python",
   "pygments_lexer": "ipython3",
   "version": "3.7.6"
  }
 },
 "nbformat": 4,
 "nbformat_minor": 4
}
