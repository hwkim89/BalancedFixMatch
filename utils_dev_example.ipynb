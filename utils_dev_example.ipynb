{
 "cells": [
  {
   "cell_type": "code",
   "execution_count": 1,
   "metadata": {},
   "outputs": [],
   "source": [
    "import torch\n",
    "import os\n",
    "from collections import defaultdict\n",
    "\n",
    "from datasets.utils import create_datasets, get_data_loaders, show_samples\n",
    "from models.model import save_model, load_model\n",
    "from models.train import train_models\n",
    "from models.utils import set_random_seed"
   ]
  },
  {
   "cell_type": "code",
   "execution_count": 2,
   "metadata": {},
   "outputs": [
    {
     "output_type": "stream",
     "name": "stdout",
     "text": [
      "Dataset is already exists.\n"
     ]
    }
   ],
   "source": [
    "cfg = {\n",
    "    'purpose' : 'fixmatch',\n",
    "    'data_dir' : '/mnt/e/00.dataset/CT',\n",
    "    'num_labeled': 25,\n",
    "    'mu' : 2,\n",
    "    'fold' : 3,\n",
    "    'epochs' : 2,\n",
    "    'batch_size': 16,\n",
    "    'metric_types' : ['acc', 'ppv', 'recall', 'f1'],\n",
    "    'dataset_types': ['train', 'val'],\n",
    "    'random_seed' :0,\n",
    "    'print_to_file':True,\n",
    "    'overwrite':False,\n",
    "}\n",
    "create_datasets(cfg)\n"
   ]
  },
  {
   "cell_type": "code",
   "execution_count": 3,
   "metadata": {},
   "outputs": [],
   "source": [
    "set_random_seed(cfg['random_seed'])\n",
    "trained_models = train_models(cfg)"
   ]
  }
 ],
 "metadata": {
  "kernelspec": {
   "display_name": "torch1.7",
   "language": "python",
   "name": "torch1.7"
  },
  "language_info": {
   "codemirror_mode": {
    "name": "ipython",
    "version": 3
   },
   "file_extension": ".py",
   "mimetype": "text/x-python",
   "name": "python",
   "nbconvert_exporter": "python",
   "pygments_lexer": "ipython3",
   "version": "3.7.0-final"
  }
 },
 "nbformat": 4,
 "nbformat_minor": 4
}