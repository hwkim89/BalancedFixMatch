{
 "cells": [
  {
   "cell_type": "code",
   "execution_count": 2,
   "metadata": {},
   "outputs": [],
   "source": [
    "import glob\n",
    "import os\n",
    "import re\n",
    "import pandas as pd\n",
    "import numpy as np\n",
    "from collections import defaultdict"
   ]
  },
  {
   "cell_type": "markdown",
   "metadata": {},
   "source": [
    "## Extract mean best scores among all random seeds"
   ]
  },
  {
   "cell_type": "code",
   "execution_count": 6,
   "metadata": {},
   "outputs": [],
   "source": [
    "# input_dir = './results/randaug_tests/k3'\n",
    "input_dir = r'C:\\Users\\hyeon\\Desktop\\result\\nl100_2_fixmatch\\result_way2_nl100'\n",
    "out_dir = './results/extracted_for_best'\n",
    "out_fname = 'randaug_tests.csv'\n",
    "if not os.path.isdir(out_dir):\n",
    "    os.makedirs(out_dir)"
   ]
  },
  {
   "cell_type": "code",
   "execution_count": 13,
   "metadata": {},
   "outputs": [
    {
     "output_type": "execute_result",
     "data": {
      "text/plain": [
       "['fixaug_nl100_2-nl100-m1-b16-r0',\n",
       " 'fixaug_nl100_2-nl100-m1-b16-r1',\n",
       " 'fixaug_nl100_2-nl100-m2-b16-r0',\n",
       " 'fixaug_nl100_2-nl100-m2-b16-r1',\n",
       " 'fixaug_nl100_2-nl100-m3-b16-r0',\n",
       " 'fixaug_nl100_2-nl100-m3-b16-r1']"
      ]
     },
     "metadata": {},
     "execution_count": 13
    }
   ],
   "source": [
    "fm_cols"
   ]
  },
  {
   "cell_type": "code",
   "execution_count": 12,
   "metadata": {},
   "outputs": [
    {
     "output_type": "execute_result",
     "data": {
      "text/plain": [
       "6"
      ]
     },
     "metadata": {},
     "execution_count": 12
    }
   ],
   "source": [
    "ori_data_paths = glob.glob(f'{input_dir}/*.txt')\n",
    "\n",
    "fm_cols = []\n",
    "data_paths_dict = DefaultOrderedDict(list)\n",
    "for ori_data_path in ori_data_paths:\n",
    "    cond = '-'.join(ori_data_path.split('-')[:5])\n",
    "    # cond = cond.split('/')[-1].replace('nl50', 'nl050')\n",
    "    cond = cond.split('\\\\')[-1].replace('nl50', 'nl050')\n",
    "    if cond not in fm_cols:\n",
    "        fm_cols.append(cond)\n",
    "    data_paths_dict[cond].append(ori_data_path)\n",
    "\n",
    "fm_cols.sort()\n",
    "len(data_paths_dict)"
   ]
  },
  {
   "cell_type": "code",
   "execution_count": 14,
   "metadata": {},
   "outputs": [
    {
     "output_type": "execute_result",
     "data": {
      "text/plain": [
       "                                       acc-all         ppv-all  \\\n",
       "fixaug_nl100_2-nl100-m1-b16-r0  0.8622 (±0.02)  0.8657 (±0.02)   \n",
       "fixaug_nl100_2-nl100-m1-b16-r1  0.8689 (±0.01)  0.8713 (±0.01)   \n",
       "fixaug_nl100_2-nl100-m2-b16-r0  0.8667 (±0.01)  0.8696 (±0.01)   \n",
       "fixaug_nl100_2-nl100-m2-b16-r1  0.8656 (±0.01)  0.8706 (±0.01)   \n",
       "fixaug_nl100_2-nl100-m3-b16-r0  0.8700 (±0.01)  0.8734 (±0.01)   \n",
       "fixaug_nl100_2-nl100-m3-b16-r1  0.8678 (±0.02)  0.8766 (±0.02)   \n",
       "\n",
       "                                     ppv-covid   ppv-pneumonia  \\\n",
       "fixaug_nl100_2-nl100-m1-b16-r0  0.9214 (±0.01)  0.8357 (±0.05)   \n",
       "fixaug_nl100_2-nl100-m1-b16-r1  0.9201 (±0.00)  0.8471 (±0.02)   \n",
       "fixaug_nl100_2-nl100-m2-b16-r0  0.9179 (±0.02)  0.8688 (±0.02)   \n",
       "fixaug_nl100_2-nl100-m2-b16-r1  0.9194 (±0.01)  0.8625 (±0.04)   \n",
       "fixaug_nl100_2-nl100-m3-b16-r0  0.9181 (±0.04)  0.8717 (±0.03)   \n",
       "fixaug_nl100_2-nl100-m3-b16-r1  0.9526 (±0.01)  0.8689 (±0.06)   \n",
       "\n",
       "                                    ppv-normal      recall-all  \\\n",
       "fixaug_nl100_2-nl100-m1-b16-r0  0.8398 (±0.01)  0.8622 (±0.02)   \n",
       "fixaug_nl100_2-nl100-m1-b16-r1  0.8467 (±0.01)  0.8689 (±0.01)   \n",
       "fixaug_nl100_2-nl100-m2-b16-r0  0.8222 (±0.01)  0.8667 (±0.01)   \n",
       "fixaug_nl100_2-nl100-m2-b16-r1  0.8300 (±0.04)  0.8656 (±0.01)   \n",
       "fixaug_nl100_2-nl100-m3-b16-r0  0.8303 (±0.01)  0.8700 (±0.01)   \n",
       "fixaug_nl100_2-nl100-m3-b16-r1  0.8081 (±0.01)  0.8678 (±0.02)   \n",
       "\n",
       "                                  recall-covid recall-pneumonia  \\\n",
       "fixaug_nl100_2-nl100-m1-b16-r0  0.8567 (±0.04)   0.8733 (±0.02)   \n",
       "fixaug_nl100_2-nl100-m1-b16-r1  0.8433 (±0.02)   0.8800 (±0.02)   \n",
       "fixaug_nl100_2-nl100-m2-b16-r0  0.8500 (±0.02)   0.8567 (±0.03)   \n",
       "fixaug_nl100_2-nl100-m2-b16-r1  0.8333 (±0.02)   0.8733 (±0.03)   \n",
       "fixaug_nl100_2-nl100-m3-b16-r0  0.8633 (±0.04)   0.8667 (±0.03)   \n",
       "fixaug_nl100_2-nl100-m3-b16-r1  0.8100 (±0.04)   0.8700 (±0.01)   \n",
       "\n",
       "                                 recall-normal          f1-all  \\\n",
       "fixaug_nl100_2-nl100-m1-b16-r0  0.8567 (±0.03)  0.8626 (±0.02)   \n",
       "fixaug_nl100_2-nl100-m1-b16-r1  0.8833 (±0.02)  0.8690 (±0.01)   \n",
       "fixaug_nl100_2-nl100-m2-b16-r0  0.8933 (±0.02)  0.8669 (±0.01)   \n",
       "fixaug_nl100_2-nl100-m2-b16-r1  0.8900 (±0.04)  0.8659 (±0.01)   \n",
       "fixaug_nl100_2-nl100-m3-b16-r0  0.8800 (±0.01)  0.8704 (±0.01)   \n",
       "fixaug_nl100_2-nl100-m3-b16-r1  0.9233 (±0.03)  0.8683 (±0.02)   \n",
       "\n",
       "                                      f1-covid    f1-pneumonia       f1-normal  \n",
       "fixaug_nl100_2-nl100-m1-b16-r0  0.8871 (±0.02)  0.8527 (±0.02)  0.8480 (±0.02)  \n",
       "fixaug_nl100_2-nl100-m1-b16-r1  0.8799 (±0.01)  0.8627 (±0.00)  0.8645 (±0.01)  \n",
       "fixaug_nl100_2-nl100-m2-b16-r0  0.8824 (±0.02)  0.8622 (±0.02)  0.8562 (±0.01)  \n",
       "fixaug_nl100_2-nl100-m2-b16-r1  0.8739 (±0.01)  0.8664 (±0.01)  0.8573 (±0.00)  \n",
       "fixaug_nl100_2-nl100-m3-b16-r0  0.8884 (±0.02)  0.8682 (±0.01)  0.8544 (±0.01)  \n",
       "fixaug_nl100_2-nl100-m3-b16-r1  0.8753 (±0.03)  0.8682 (±0.03)  0.8614 (±0.01)  "
      ],
      "text/html": "<div>\n<style scoped>\n    .dataframe tbody tr th:only-of-type {\n        vertical-align: middle;\n    }\n\n    .dataframe tbody tr th {\n        vertical-align: top;\n    }\n\n    .dataframe thead th {\n        text-align: right;\n    }\n</style>\n<table border=\"1\" class=\"dataframe\">\n  <thead>\n    <tr style=\"text-align: right;\">\n      <th></th>\n      <th>acc-all</th>\n      <th>ppv-all</th>\n      <th>ppv-covid</th>\n      <th>ppv-pneumonia</th>\n      <th>ppv-normal</th>\n      <th>recall-all</th>\n      <th>recall-covid</th>\n      <th>recall-pneumonia</th>\n      <th>recall-normal</th>\n      <th>f1-all</th>\n      <th>f1-covid</th>\n      <th>f1-pneumonia</th>\n      <th>f1-normal</th>\n    </tr>\n  </thead>\n  <tbody>\n    <tr>\n      <th>fixaug_nl100_2-nl100-m1-b16-r0</th>\n      <td>0.8622 (±0.02)</td>\n      <td>0.8657 (±0.02)</td>\n      <td>0.9214 (±0.01)</td>\n      <td>0.8357 (±0.05)</td>\n      <td>0.8398 (±0.01)</td>\n      <td>0.8622 (±0.02)</td>\n      <td>0.8567 (±0.04)</td>\n      <td>0.8733 (±0.02)</td>\n      <td>0.8567 (±0.03)</td>\n      <td>0.8626 (±0.02)</td>\n      <td>0.8871 (±0.02)</td>\n      <td>0.8527 (±0.02)</td>\n      <td>0.8480 (±0.02)</td>\n    </tr>\n    <tr>\n      <th>fixaug_nl100_2-nl100-m1-b16-r1</th>\n      <td>0.8689 (±0.01)</td>\n      <td>0.8713 (±0.01)</td>\n      <td>0.9201 (±0.00)</td>\n      <td>0.8471 (±0.02)</td>\n      <td>0.8467 (±0.01)</td>\n      <td>0.8689 (±0.01)</td>\n      <td>0.8433 (±0.02)</td>\n      <td>0.8800 (±0.02)</td>\n      <td>0.8833 (±0.02)</td>\n      <td>0.8690 (±0.01)</td>\n      <td>0.8799 (±0.01)</td>\n      <td>0.8627 (±0.00)</td>\n      <td>0.8645 (±0.01)</td>\n    </tr>\n    <tr>\n      <th>fixaug_nl100_2-nl100-m2-b16-r0</th>\n      <td>0.8667 (±0.01)</td>\n      <td>0.8696 (±0.01)</td>\n      <td>0.9179 (±0.02)</td>\n      <td>0.8688 (±0.02)</td>\n      <td>0.8222 (±0.01)</td>\n      <td>0.8667 (±0.01)</td>\n      <td>0.8500 (±0.02)</td>\n      <td>0.8567 (±0.03)</td>\n      <td>0.8933 (±0.02)</td>\n      <td>0.8669 (±0.01)</td>\n      <td>0.8824 (±0.02)</td>\n      <td>0.8622 (±0.02)</td>\n      <td>0.8562 (±0.01)</td>\n    </tr>\n    <tr>\n      <th>fixaug_nl100_2-nl100-m2-b16-r1</th>\n      <td>0.8656 (±0.01)</td>\n      <td>0.8706 (±0.01)</td>\n      <td>0.9194 (±0.01)</td>\n      <td>0.8625 (±0.04)</td>\n      <td>0.8300 (±0.04)</td>\n      <td>0.8656 (±0.01)</td>\n      <td>0.8333 (±0.02)</td>\n      <td>0.8733 (±0.03)</td>\n      <td>0.8900 (±0.04)</td>\n      <td>0.8659 (±0.01)</td>\n      <td>0.8739 (±0.01)</td>\n      <td>0.8664 (±0.01)</td>\n      <td>0.8573 (±0.00)</td>\n    </tr>\n    <tr>\n      <th>fixaug_nl100_2-nl100-m3-b16-r0</th>\n      <td>0.8700 (±0.01)</td>\n      <td>0.8734 (±0.01)</td>\n      <td>0.9181 (±0.04)</td>\n      <td>0.8717 (±0.03)</td>\n      <td>0.8303 (±0.01)</td>\n      <td>0.8700 (±0.01)</td>\n      <td>0.8633 (±0.04)</td>\n      <td>0.8667 (±0.03)</td>\n      <td>0.8800 (±0.01)</td>\n      <td>0.8704 (±0.01)</td>\n      <td>0.8884 (±0.02)</td>\n      <td>0.8682 (±0.01)</td>\n      <td>0.8544 (±0.01)</td>\n    </tr>\n    <tr>\n      <th>fixaug_nl100_2-nl100-m3-b16-r1</th>\n      <td>0.8678 (±0.02)</td>\n      <td>0.8766 (±0.02)</td>\n      <td>0.9526 (±0.01)</td>\n      <td>0.8689 (±0.06)</td>\n      <td>0.8081 (±0.01)</td>\n      <td>0.8678 (±0.02)</td>\n      <td>0.8100 (±0.04)</td>\n      <td>0.8700 (±0.01)</td>\n      <td>0.9233 (±0.03)</td>\n      <td>0.8683 (±0.02)</td>\n      <td>0.8753 (±0.03)</td>\n      <td>0.8682 (±0.03)</td>\n      <td>0.8614 (±0.01)</td>\n    </tr>\n  </tbody>\n</table>\n</div>"
     },
     "metadata": {},
     "execution_count": 14
    }
   ],
   "source": [
    "p = re.compile('1[.]\\d{4}|0[.]\\d{4}') #[0.숫자4개]\n",
    "\n",
    "cols = ('acc-all', 'ppv-all', 'ppv-covid', 'ppv-pneumonia', 'ppv-normal',\n",
    "        'recall-all', 'recall-covid', 'recall-pneumonia', 'recall-normal',\n",
    "        'f1-all', 'f1-covid', 'f1-pneumonia', 'f1-normal')\n",
    "metrics_dfs = {}\n",
    "for col, data_paths in data_paths_dict.items(): # 데이터 경로에서 txt파일을 하나씩 불러온다.\n",
    "    metrics_dfs[col] = pd.DataFrame([], columns=cols)\n",
    "    for ori_data_path in data_paths:\n",
    "        with open(ori_data_path, 'r') as f: \n",
    "            all_data = f.read() # 전체 txt line을 읽어온다.\n",
    "            all_data = all_data.split('\\n') # 띄어쓰기 기준으로 나눔\n",
    "            if 'baseline' in ori_data_path:\n",
    "#                 candidates = ((327, 332), (662, 667), (997, 1002),\n",
    "#                               (1332, 1337), (1667, 1672))\n",
    "                candidates = ((327, 332), (662, 667), (997, 1002))\n",
    "#                 candidates = ((647, 652), (1302, 1307), (1957, 1962))\n",
    "            else:\n",
    "#                 candidates = ((347, 352), (702, 707), (1057, 1062),\n",
    "#                               (1412, 1417), (1767, 1772))\n",
    "                candidates = ((347, 352), (702, 707), (1057, 1062))\n",
    "            metrics = []\n",
    "            for s_idx, e_idx in candidates:\n",
    "                metric_line = all_data[s_idx:e_idx] # hard coding.. best result 부분\n",
    "                metrics.append(list(map(float, p.findall(str(metric_line)))))# 정규표현식에 맞는것만 뽑기\n",
    "\n",
    "            metrics_dfs[col] = pd.concat((metrics_dfs[col],\n",
    "                                         pd.DataFrame(metrics, columns=cols))).reset_index(drop=True)\n",
    "\n",
    "final_metrics_df = pd.DataFrame([], columns=cols)\n",
    "for fm_col in fm_cols:\n",
    "    final_metrics = []\n",
    "    for col in cols:\n",
    "        best_metrics = metrics_dfs[fm_col][col].to_numpy()\n",
    "        mean, std = best_metrics.mean(), best_metrics.std()\n",
    "        final_metrics.append(f'{mean:.4f} (±{std:.2f})')\n",
    "        \n",
    "    final_metrics_df = final_metrics_df.append(pd.DataFrame([final_metrics], columns=cols, index=(fm_col,)))\n",
    "\n",
    "final_metrics_df"
   ]
  },
  {
   "cell_type": "code",
   "execution_count": 103,
   "metadata": {},
   "outputs": [
    {
     "data": {
      "text/plain": [
       "[(9, 14, 3), (9, 3, 14), (14, 9, 3), (14, 3, 9), (3, 9, 14), (3, 14, 9)]"
      ]
     },
     "execution_count": 103,
     "metadata": {},
     "output_type": "execute_result"
    }
   ],
   "source": [
    "# from itertools import permutations\n",
    "# list(permutations([9, 14, 3]))"
   ]
  },
  {
   "cell_type": "code",
   "execution_count": 58,
   "metadata": {},
   "outputs": [],
   "source": [
    "final_metrics_df.to_csv(f'{out_dir}/{out_fname}')"
   ]
  },
  {
   "cell_type": "code",
   "execution_count": 4,
   "metadata": {},
   "outputs": [],
   "source": [
    "from collections import OrderedDict, Callable\n",
    "\n",
    "class DefaultOrderedDict(OrderedDict):\n",
    "    # Source: http://stackoverflow.com/a/6190500/562769\n",
    "    def __init__(self, default_factory=None, *a, **kw):\n",
    "        if (default_factory is not None and\n",
    "           not isinstance(default_factory, Callable)):\n",
    "            raise TypeError('first argument must be callable')\n",
    "        OrderedDict.__init__(self, *a, **kw)\n",
    "        self.default_factory = default_factory\n",
    "\n",
    "    def __getitem__(self, key):\n",
    "        try:\n",
    "            return OrderedDict.__getitem__(self, key)\n",
    "        except KeyError:\n",
    "            return self.__missing__(key)\n",
    "\n",
    "    def __missing__(self, key):\n",
    "        if self.default_factory is None:\n",
    "            raise KeyError(key)\n",
    "        self[key] = value = self.default_factory()\n",
    "        return value\n",
    "\n",
    "    def __reduce__(self):\n",
    "        if self.default_factory is None:\n",
    "            args = tuple()\n",
    "        else:\n",
    "            args = self.default_factory,\n",
    "        return type(self), args, None, None, self.items()\n",
    "\n",
    "    def copy(self):\n",
    "        return self.__copy__()\n",
    "\n",
    "    def __copy__(self):\n",
    "        return type(self)(self.default_factory, self)\n",
    "\n",
    "    def __deepcopy__(self, memo):\n",
    "        import copy\n",
    "        return type(self)(self.default_factory,\n",
    "                          copy.deepcopy(self.items()))\n",
    "\n",
    "    def __repr__(self):\n",
    "        return 'OrderedDefaultDict(%s, %s)' % (self.default_factory,\n",
    "                                               OrderedDict.__repr__(self))"
   ]
  },
  {
   "cell_type": "code",
   "execution_count": null,
   "metadata": {},
   "outputs": [],
   "source": []
  }
 ],
 "metadata": {
  "kernelspec": {
   "display_name": "Python 3",
   "language": "python",
   "name": "python3"
  },
  "language_info": {
   "codemirror_mode": {
    "name": "ipython",
    "version": 3
   },
   "file_extension": ".py",
   "mimetype": "text/x-python",
   "name": "python",
   "nbconvert_exporter": "python",
   "pygments_lexer": "ipython3",
   "version": "3.8.5-final"
  }
 },
 "nbformat": 4,
 "nbformat_minor": 4
}